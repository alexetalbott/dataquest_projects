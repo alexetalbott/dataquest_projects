{
 "cells": [
  {
   "cell_type": "markdown",
   "metadata": {},
   "source": [
    "This project will analyze and compare 'Ask HN' to 'Show HN' posts on (Hacker News)[https://news.ycombinator.com/]. "
   ]
  },
  {
   "cell_type": "code",
   "execution_count": 12,
   "metadata": {},
   "outputs": [],
   "source": [
    "opened_file = open('C:\\\\Users\\\\alex.talbott\\\\Desktop\\\\Alex Talbott Stuff\\\\Python\\\\DataQuest\\\\Datasets\\\\DQ2\\\\hacker_news.csv')\n",
    "from csv import reader\n",
    "read_file = reader(opened_file)\n",
    "dataset = list(read_file)\n",
    "hn_header = dataset[0]\n",
    "hn = dataset[1:]\n",
    "\n",
    "import datetime as dt"
   ]
  },
  {
   "cell_type": "code",
   "execution_count": 4,
   "metadata": {},
   "outputs": [
    {
     "data": {
      "text/plain": [
       "[['12224879',\n",
       "  'Interactive Dynamic Video',\n",
       "  'http://www.interactivedynamicvideo.com/',\n",
       "  '386',\n",
       "  '52',\n",
       "  'ne0phyte',\n",
       "  '8/4/2016 11:52'],\n",
       " ['10975351',\n",
       "  'How to Use Open Source and Shut the Fuck Up at the Same Time',\n",
       "  'http://hueniverse.com/2016/01/26/how-to-use-open-source-and-shut-the-fuck-up-at-the-same-time/',\n",
       "  '39',\n",
       "  '10',\n",
       "  'josep2',\n",
       "  '1/26/2016 19:30'],\n",
       " ['11964716',\n",
       "  \"Florida DJs May Face Felony for April Fools' Water Joke\",\n",
       "  'http://www.thewire.com/entertainment/2013/04/florida-djs-april-fools-water-joke/63798/',\n",
       "  '2',\n",
       "  '1',\n",
       "  'vezycash',\n",
       "  '6/23/2016 22:20'],\n",
       " ['11919867',\n",
       "  'Technology ventures: From Idea to Enterprise',\n",
       "  'https://www.amazon.com/Technology-Ventures-Enterprise-Thomas-Byers/dp/0073523429',\n",
       "  '3',\n",
       "  '1',\n",
       "  'hswarna',\n",
       "  '6/17/2016 0:01'],\n",
       " ['10301696',\n",
       "  'Note by Note: The Making of Steinway L1037 (2007)',\n",
       "  'http://www.nytimes.com/2007/11/07/movies/07stein.html?_r=0',\n",
       "  '8',\n",
       "  '2',\n",
       "  'walterbell',\n",
       "  '9/30/2015 4:12']]"
      ]
     },
     "execution_count": 4,
     "metadata": {},
     "output_type": "execute_result"
    }
   ],
   "source": [
    "hn[:5]"
   ]
  },
  {
   "cell_type": "code",
   "execution_count": 5,
   "metadata": {},
   "outputs": [
    {
     "name": "stdout",
     "output_type": "stream",
     "text": [
      "total ask posts: 1744\n",
      "total show posts: 1162\n"
     ]
    }
   ],
   "source": [
    "## Step 1: Separate posts beginning with Ask HN and Show HN int otwo different lists\n",
    "\n",
    "ask_posts = []\n",
    "\n",
    "show_posts = []\n",
    "\n",
    "other_posts = []\n",
    "\n",
    "\n",
    "for row in hn:\n",
    "    title = row[1]\n",
    "    \n",
    "    if title.lower().startswith('ask hn'):\n",
    "        ask_posts.append(row)\n",
    "    elif title.lower().startswith('show hn'):\n",
    "        show_posts.append(row)\n",
    "    else:\n",
    "        other_posts.append(row)\n",
    "        \n",
    "    \n",
    "print('total ask posts: ' + str(len(ask_posts)))\n",
    "print('total show posts: ' + str(len(show_posts)))\n",
    "    \n",
    "    "
   ]
  },
  {
   "cell_type": "code",
   "execution_count": 6,
   "metadata": {},
   "outputs": [
    {
     "name": "stdout",
     "output_type": "stream",
     "text": [
      "The average comment total per \"Ask HN\" post is 14.04\n",
      "The average comment total per \"Show HN\" post is 10.32\n",
      "Based on the above averages, Ask HN posts generate more comments on average.\n"
     ]
    }
   ],
   "source": [
    "total_ask_comments = 0\n",
    "\n",
    "for row in ask_posts:\n",
    "    comments = int(row[4])\n",
    "    total_ask_comments += comments\n",
    "    \n",
    "avg_ask_comments = total_ask_comments/len(ask_posts)\n",
    "\n",
    "print('The average comment total per \"Ask HN\" post is '+ str(round(avg_ask_comments,2)))\n",
    "\n",
    "total_show_comments = 0\n",
    "\n",
    "for row in show_posts:\n",
    "    comments = int(row[4])\n",
    "    total_show_comments += comments\n",
    "    \n",
    "avg_show_comments = total_show_comments/len(show_posts)\n",
    "\n",
    "print('The average comment total per \"Show HN\" post is ' + str(round(avg_show_comments,2)))\n",
    "\n",
    "print('Based on the above averages, Ask HN posts generate more comments on average.')\n",
    "    "
   ]
  },
  {
   "cell_type": "code",
   "execution_count": 21,
   "metadata": {
    "scrolled": false
   },
   "outputs": [],
   "source": [
    "comments_by_hour = {}\n",
    "counts_by_hour = {}\n",
    "\n",
    "for row in ask_posts:\n",
    "    date_str = row[-1]\n",
    "    comments = int(row[4])\n",
    "    \n",
    "    date_date = dt.datetime.strptime(date_str, \"%m/%d/%Y %H:%M\")\n",
    "    date_hour = date_date.time().hour\n",
    "    \n",
    "    if date_hour in comments_by_hour:\n",
    "        comments_by_hour[date_hour] += comments\n",
    "        counts_by_hour[date_hour] += 1\n",
    "    else:\n",
    "        comments_by_hour[date_hour] = comments\n",
    "        counts_by_hour[date_hour] = 1\n"
   ]
  },
  {
   "cell_type": "code",
   "execution_count": 28,
   "metadata": {},
   "outputs": [
    {
     "data": {
      "text/plain": [
       "[[9, 5.6],\n",
       " [13, 14.7],\n",
       " [10, 13.4],\n",
       " [14, 13.2],\n",
       " [16, 16.8],\n",
       " [23, 8.0],\n",
       " [12, 9.4],\n",
       " [17, 11.5],\n",
       " [15, 38.6],\n",
       " [21, 16.0],\n",
       " [20, 21.5],\n",
       " [2, 23.8],\n",
       " [18, 13.2],\n",
       " [3, 7.8],\n",
       " [5, 10.1],\n",
       " [19, 10.8],\n",
       " [1, 11.4],\n",
       " [22, 6.7],\n",
       " [8, 10.2],\n",
       " [4, 7.2],\n",
       " [0, 8.1],\n",
       " [6, 9.0],\n",
       " [7, 7.9],\n",
       " [11, 11.1]]"
      ]
     },
     "execution_count": 28,
     "metadata": {},
     "output_type": "execute_result"
    }
   ],
   "source": [
    "avg_posts_per_hour = []\n",
    "\n",
    "for key in comments_by_hour:\n",
    "    avg_posts = round(comments_by_hour[key]/counts_by_hour[key],1)\n",
    "    avg_posts_per_hour.append([key, avg_posts])\n",
    "    \n",
    "avg_posts_per_hour"
   ]
  },
  {
   "cell_type": "code",
   "execution_count": 37,
   "metadata": {},
   "outputs": [
    {
     "name": "stdout",
     "output_type": "stream",
     "text": [
      "Top 5 Hours for Ask Posts Comments:\n",
      "15:00: 38.6 average comments per post.\n",
      "2:00: 23.8 average comments per post.\n",
      "20:00: 21.5 average comments per post.\n",
      "16:00: 16.8 average comments per post.\n",
      "21:00: 16.0 average comments per post.\n"
     ]
    }
   ],
   "source": [
    "swap_avg_by_hour = []\n",
    "\n",
    "for list in avg_posts_per_hour:\n",
    "    swap_avg_by_hour.append([list[1],list[0]])\n",
    "    \n",
    "sorted_swap = sorted(swap_avg_by_hour, reverse = True)\n",
    "\n",
    "print(\"Top 5 Hours for Ask Posts Comments:\")\n",
    "\n",
    "for list in sorted_swap[0:5]:\n",
    "    \n",
    "    hour_formatted = '{}:{}'.format(list[1],'00')\n",
    "\n",
    "    print (hour_formatted + \": \" + str(list[0]) + \" average comments per post.\") \n",
    "\n"
   ]
  }
 ],
 "metadata": {
  "kernelspec": {
   "display_name": "Python 3",
   "language": "python",
   "name": "python3"
  },
  "language_info": {
   "codemirror_mode": {
    "name": "ipython",
    "version": 3
   },
   "file_extension": ".py",
   "mimetype": "text/x-python",
   "name": "python",
   "nbconvert_exporter": "python",
   "pygments_lexer": "ipython3",
   "version": "3.7.4"
  }
 },
 "nbformat": 4,
 "nbformat_minor": 2
}
