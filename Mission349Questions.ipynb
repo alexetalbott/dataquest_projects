{
 "cells": [
  {
   "cell_type": "markdown",
   "metadata": {},
   "source": [
    "## How to open a dataset\n",
    "\n",
    "1. use the 'open' command on the file\n",
    "2. import reader from the csv package\n",
    "3. use the 'reader' command on the opened file\n",
    "4. use the list command on the read file to convert data to a list of lists\n",
    "\n",
    "**Be sure to use the corrrect encoding type for the dataset when you open the file!**"
   ]
  },
  {
   "cell_type": "code",
   "execution_count": 13,
   "metadata": {},
   "outputs": [
    {
     "data": {
      "text/plain": [
       "[['',\n",
       "  'id',\n",
       "  'track_name',\n",
       "  'size_bytes',\n",
       "  'currency',\n",
       "  'price',\n",
       "  'rating_count_tot',\n",
       "  'rating_count_ver',\n",
       "  'user_rating',\n",
       "  'user_rating_ver',\n",
       "  'ver',\n",
       "  'cont_rating',\n",
       "  'prime_genre',\n",
       "  'sup_devices.num',\n",
       "  'ipadSc_urls.num',\n",
       "  'lang.num',\n",
       "  'vpp_lic'],\n",
       " ['1',\n",
       "  '281656475',\n",
       "  'PAC-MAN Premium',\n",
       "  '100788224',\n",
       "  'USD',\n",
       "  '3.99',\n",
       "  '21292',\n",
       "  '26',\n",
       "  '4',\n",
       "  '4.5',\n",
       "  '6.3.5',\n",
       "  '4+',\n",
       "  'Games',\n",
       "  '38',\n",
       "  '5',\n",
       "  '10',\n",
       "  '1'],\n",
       " ['2',\n",
       "  '281796108',\n",
       "  'Evernote - stay organized',\n",
       "  '158578688',\n",
       "  'USD',\n",
       "  '0',\n",
       "  '161065',\n",
       "  '26',\n",
       "  '4',\n",
       "  '3.5',\n",
       "  '8.2.2',\n",
       "  '4+',\n",
       "  'Productivity',\n",
       "  '37',\n",
       "  '5',\n",
       "  '23',\n",
       "  '1'],\n",
       " ['3',\n",
       "  '281940292',\n",
       "  'WeatherBug - Local Weather, Radar, Maps, Alerts',\n",
       "  '100524032',\n",
       "  'USD',\n",
       "  '0',\n",
       "  '188583',\n",
       "  '2822',\n",
       "  '3.5',\n",
       "  '4.5',\n",
       "  '5.0.0',\n",
       "  '4+',\n",
       "  'Weather',\n",
       "  '37',\n",
       "  '5',\n",
       "  '3',\n",
       "  '1']]"
      ]
     },
     "execution_count": 13,
     "metadata": {},
     "output_type": "execute_result"
    }
   ],
   "source": [
    "opened_file = open('C:\\\\Users\\\\alex.talbott\\\\Desktop\\\\Alex Talbott Stuff\\\\Python\\\\DataQuest\\\\Datasets\\\\AppleStoreZip\\\\AppleStore.csv', encoding=\"utf8\")\n",
    "from csv import reader\n",
    "red_file = reader(opened_file)\n",
    "apps_data = list(red_file)\n",
    "\n",
    "apps_data[0:4]"
   ]
  },
  {
   "cell_type": "markdown",
   "metadata": {},
   "source": [
    "This data source is compiled from the iTunes app store and contains data points on over _7000_ apps. \n",
    "\n",
    "See a link to the datasource here on [Kaggle](https://www.kaggle.com/ramamet4/app-store-apple-data-set-10k-apps/data)"
   ]
  },
  {
   "cell_type": "markdown",
   "metadata": {},
   "source": [
    "| Column name | Description |\n",
    "| -------- | -------- |\n",
    "| \"id\"  | App ID  |\n",
    "\"size_bytes\" | size in bytes\n",
    "\"currency\" | currency type\n",
    "\"price\" | price amount\n",
    "\"rating_count_tot\" | User Rating counts (for all versions)\n",
    "\"rating_count_ver\" | User Rating counts (for current version)\n",
    "\"user_rating\" | average user rating value for all versions\n",
    "\"user_rating_ver\" | average user rating value for current version\n",
    "| ver\" | latest version code |\n",
    "\"cont_rating\" | content rating\n",
    "\"prime genre\" | primary genre\n",
    "\"sup_devices.num\" | number of supporting devices\n",
    "\"ipadSc_urls.num\" | number of screenshots showed for display\n",
    "\"lang.num\" | number of supported languages\n",
    "\"vpp_lic\" | vpp device based licensing enabled"
   ]
  },
  {
   "cell_type": "code",
   "execution_count": null,
   "metadata": {},
   "outputs": [],
   "source": []
  }
 ],
 "metadata": {
  "kernelspec": {
   "display_name": "Python 3",
   "language": "python",
   "name": "python3"
  },
  "language_info": {
   "codemirror_mode": {
    "name": "ipython",
    "version": 3
   },
   "file_extension": ".py",
   "mimetype": "text/x-python",
   "name": "python",
   "nbconvert_exporter": "python",
   "pygments_lexer": "ipython3",
   "version": "3.7.4"
  }
 },
 "nbformat": 4,
 "nbformat_minor": 2
}
